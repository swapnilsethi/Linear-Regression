{
  "nbformat": 4,
  "nbformat_minor": 0,
  "metadata": {
    "colab": {
      "name": "Linear Regression.ipynb",
      "provenance": [],
      "collapsed_sections": [],
      "authorship_tag": "ABX9TyNN0KeWggKimCUXVZ8HC1f1",
      "include_colab_link": true
    },
    "kernelspec": {
      "name": "python3",
      "display_name": "Python 3"
    },
    "language_info": {
      "name": "python"
    }
  },
  "cells": [
    {
      "cell_type": "markdown",
      "metadata": {
        "id": "view-in-github",
        "colab_type": "text"
      },
      "source": [
        "<a href=\"https://colab.research.google.com/github/swapnilsethi/Linear-Regression/blob/main/Linear_Regression.ipynb\" target=\"_parent\"><img src=\"https://colab.research.google.com/assets/colab-badge.svg\" alt=\"Open In Colab\"/></a>"
      ]
    },
    {
      "cell_type": "code",
      "metadata": {
        "id": "fhwR4oyMo0Q6"
      },
      "source": [
        "import pandas as pd\n",
        "import numpy as np\n",
        "import matplotlib.pyplot as plt"
      ],
      "execution_count": 2,
      "outputs": []
    },
    {
      "cell_type": "code",
      "metadata": {
        "id": "GV2cFPji78pS"
      },
      "source": [
        "#read data from github\n",
        "URL = \"https://raw.githubusercontent.com/swapnilsethi/Linear-Regression/master/univariate.txt\"\n",
        "data = pd.read_csv(URL, header=None, sep= \",\", names=[\"Population\", \"Profit\"])\n"
      ],
      "execution_count": 3,
      "outputs": []
    },
    {
      "cell_type": "code",
      "metadata": {
        "colab": {
          "base_uri": "https://localhost:8080/",
          "height": 297
        },
        "id": "P25U-Ifd0vzI",
        "outputId": "02fdbf21-edf1-4077-fb8b-6853b21c006d"
      },
      "source": [
        "#EDA\n",
        "data.describe()"
      ],
      "execution_count": 4,
      "outputs": [
        {
          "output_type": "execute_result",
          "data": {
            "text/html": [
              "<div>\n",
              "<style scoped>\n",
              "    .dataframe tbody tr th:only-of-type {\n",
              "        vertical-align: middle;\n",
              "    }\n",
              "\n",
              "    .dataframe tbody tr th {\n",
              "        vertical-align: top;\n",
              "    }\n",
              "\n",
              "    .dataframe thead th {\n",
              "        text-align: right;\n",
              "    }\n",
              "</style>\n",
              "<table border=\"1\" class=\"dataframe\">\n",
              "  <thead>\n",
              "    <tr style=\"text-align: right;\">\n",
              "      <th></th>\n",
              "      <th>Population</th>\n",
              "      <th>Profit</th>\n",
              "    </tr>\n",
              "  </thead>\n",
              "  <tbody>\n",
              "    <tr>\n",
              "      <th>count</th>\n",
              "      <td>97.000000</td>\n",
              "      <td>97.000000</td>\n",
              "    </tr>\n",
              "    <tr>\n",
              "      <th>mean</th>\n",
              "      <td>8.159800</td>\n",
              "      <td>5.839135</td>\n",
              "    </tr>\n",
              "    <tr>\n",
              "      <th>std</th>\n",
              "      <td>3.869884</td>\n",
              "      <td>5.510262</td>\n",
              "    </tr>\n",
              "    <tr>\n",
              "      <th>min</th>\n",
              "      <td>5.026900</td>\n",
              "      <td>-2.680700</td>\n",
              "    </tr>\n",
              "    <tr>\n",
              "      <th>25%</th>\n",
              "      <td>5.707700</td>\n",
              "      <td>1.986900</td>\n",
              "    </tr>\n",
              "    <tr>\n",
              "      <th>50%</th>\n",
              "      <td>6.589400</td>\n",
              "      <td>4.562300</td>\n",
              "    </tr>\n",
              "    <tr>\n",
              "      <th>75%</th>\n",
              "      <td>8.578100</td>\n",
              "      <td>7.046700</td>\n",
              "    </tr>\n",
              "    <tr>\n",
              "      <th>max</th>\n",
              "      <td>22.203000</td>\n",
              "      <td>24.147000</td>\n",
              "    </tr>\n",
              "  </tbody>\n",
              "</table>\n",
              "</div>"
            ],
            "text/plain": [
              "       Population     Profit\n",
              "count   97.000000  97.000000\n",
              "mean     8.159800   5.839135\n",
              "std      3.869884   5.510262\n",
              "min      5.026900  -2.680700\n",
              "25%      5.707700   1.986900\n",
              "50%      6.589400   4.562300\n",
              "75%      8.578100   7.046700\n",
              "max     22.203000  24.147000"
            ]
          },
          "metadata": {},
          "execution_count": 4
        }
      ]
    },
    {
      "cell_type": "code",
      "metadata": {
        "id": "sWMePh6k9GJP",
        "colab": {
          "base_uri": "https://localhost:8080/",
          "height": 266
        },
        "outputId": "02380188-1c79-45a6-9e84-f4bbeb1ad796"
      },
      "source": [
        "\n",
        "# As we know, there are only two columns in our dataset profit and Population, we can use scatter plot to visualize it.\n",
        "#pd.plotting.scatter_matrix(data)\n",
        "\n",
        "plt.scatter(data[\"Population\"],data[\"Profit\"],marker=\"x\")\n",
        "plt.xticks(np.arange(5,30,step=5))\n",
        "plt.yticks(np.arange(-5,30,step=5))\n",
        "plt.title = \"Population vs Profit\"\n",
        "plt.xlabel = \"Porpulation of City in 10,000s\"\n",
        "plt.ylabel = \"Profit in $10,000s\"\n",
        "plt.show()\n"
      ],
      "execution_count": 5,
      "outputs": [
        {
          "output_type": "display_data",
          "data": {
            "image/png": "[encoded data removed]",
            "text/plain": [
              "<Figure size 432x288 with 1 Axes>"
            ]
          },
          "metadata": {
            "needs_background": "light"
          }
        }
      ]
    },
    {
      "cell_type": "code",
      "metadata": {
        "id": "lIiEv-G9NNBG"
      },
      "source": [
        "#Computing Cost(J(Θ))\n",
        "\n",
        "def computeCost(X, y, Θ):\n",
        "  m = len(y)     # Number of training example\n",
        "  predictions = X.dot(Θ)\n",
        "  square_err = (predictions-y)**2\n",
        "  J = (1/(2*m)) * (np.sum(square_err) ) \n",
        "  return J"
      ],
      "execution_count": 6,
      "outputs": []
    },
    {
      "cell_type": "code",
      "metadata": {
        "colab": {
          "base_uri": "https://localhost:8080/"
        },
        "id": "QEtBSInZ2WB0",
        "outputId": "ac5e14c0-e487-4fb5-e570-67413df91070"
      },
      "source": [
        "#Initialize X,y and compute the cost of using Θ = (0,0)\n",
        "data_n=data.values\n",
        "m=len(data_n[:,-1])\n",
        "X=np.append(np.ones((m,1)),data_n[:,0].reshape(m,1),axis=1)\n",
        "y=data_n[:,1].reshape(m,1)\n",
        "Θ = np.zeros((2,1))\n",
        "\n",
        "computeCost(X,y,Θ)"
      ],
      "execution_count": 7,
      "outputs": [
        {
          "output_type": "execute_result",
          "data": {
            "text/plain": [
              "32.072733877455676"
            ]
          },
          "metadata": {},
          "execution_count": 7
        }
      ]
    },
    {
      "cell_type": "code",
      "metadata": {
        "colab": {
          "base_uri": "https://localhost:8080/"
        },
        "id": "fYLYSkswAIac",
        "outputId": "4d8b052b-de4f-4fd7-da6e-a12f77b3c08f"
      },
      "source": [
        "computeCost(X,y,[[-1], [2]]) #non-zero theta\n"
      ],
      "execution_count": 8,
      "outputs": [
        {
          "output_type": "execute_result",
          "data": {
            "text/plain": [
              "54.24245508201238"
            ]
          },
          "metadata": {},
          "execution_count": 8
        }
      ]
    },
    {
      "cell_type": "code",
      "metadata": {
        "id": "ntmx6cV1Ad1r"
      },
      "source": [
        "#Gradient descent\n",
        "def gradient_descent(X, y, Θ, α, num_iters):\n",
        "  m = len(y)\n",
        "  #J_history = np.zeros([num_iters,1])\n",
        "  J_history =[]\n",
        "  for i in range(num_iters):\n",
        "    predictions = X.dot(Θ)\n",
        "    diff = (predictions-y)\n",
        "    error = np.dot(X.transpose(),diff)\n",
        "    Θ = Θ - (α* 1/m * error)\n",
        "    J_history.append(computeCost(X,y, Θ))\n",
        "  return Θ, J_history"
      ],
      "execution_count": 9,
      "outputs": []
    },
    {
      "cell_type": "code",
      "metadata": {
        "colab": {
          "base_uri": "https://localhost:8080/"
        },
        "id": "xLeVL3eDDpbT",
        "outputId": "48f224e6-387d-40f6-eea5-ff08758d802f"
      },
      "source": [
        "α =0.01\n",
        "iterations = 1500\n",
        "Θ,J_history = gradient_descent(X,y, Θ, α, iterations)\n",
        "print('Θ computed from gradient descent are: ' + str(round(Θ[0,0],4)) + \"  \" + str(round(Θ[1,0],4)))\n",
        "print(\"h(x) = \" + str(round(Θ[0,0],4)) + \" + \"+ str(round(Θ[1,0],4))+ \"X1\")"
      ],
      "execution_count": 10,
      "outputs": [
        {
          "output_type": "stream",
          "name": "stdout",
          "text": [
            "Θ computed from gradient descent are: -3.6303  1.1664\n",
            "h(x) = -3.6303 + 1.1664X1\n"
          ]
        }
      ]
    },
    {
      "cell_type": "code",
      "metadata": {
        "colab": {
          "base_uri": "https://localhost:8080/",
          "height": 265
        },
        "id": "lwb1KEP6L4gK",
        "outputId": "c110a51c-3445-4177-af10-fd32d29b6711"
      },
      "source": [
        "plt.scatter(data[\"Population\"],data[\"Profit\"],marker=\"x\")\n",
        "x_value=[x for x in range(25)]\n",
        "y_value=[y*Θ[1]+Θ[0] for y in x_value]\n",
        "plt.plot(x_value,y_value,color=\"r\")\n",
        "plt.xticks(np.arange(5,30,step=5))\n",
        "plt.yticks(np.arange(5,30,step=5))\n",
        "plt.title = \"Population vs Profit\"\n",
        "plt.xlabel = \"Porpulation of City in 10,000s\"\n",
        "plt.ylabel = \"Profit in $10,000s\"\n",
        "plt.show()"
      ],
      "execution_count": 11,
      "outputs": [
        {
          "output_type": "display_data",
          "data": {
            "image/png": "[encoded data removed]",
            "text/plain": [
              "<Figure size 432x288 with 1 Axes>"
            ]
          },
          "metadata": {
            "needs_background": "light"
          }
        }
      ]
    },
    {
      "cell_type": "code",
      "metadata": {
        "colab": {
          "base_uri": "https://localhost:8080/"
        },
        "id": "4UPVXdcUS1LL",
        "outputId": "fce59894-ee2e-4d46-c62d-700920ef349d"
      },
      "source": [
        "def predict(x,Θ):\n",
        "   predictions= np.dot(Θ.transpose(),x)\n",
        "   return predictions[0]\n",
        "\n",
        "predict1=predict(np.array([1,3.5]),Θ)*10000\n",
        "predict1"
      ],
      "execution_count": 15,
      "outputs": [
        {
          "output_type": "execute_result",
          "data": {
            "text/plain": [
              "4519.767867701768"
            ]
          },
          "metadata": {},
          "execution_count": 15
        }
      ]
    }
  ]
}
