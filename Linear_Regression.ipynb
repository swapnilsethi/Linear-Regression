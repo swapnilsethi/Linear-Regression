{
  "nbformat": 4,
  "nbformat_minor": 0,
  "metadata": {
    "colab": {
      "name": "Linear Regression.ipynb",
      "provenance": [],
      "collapsed_sections": [],
      "authorship_tag": "ABX9TyPhPKpmqrMTeifOc+lL4SDd",
      "include_colab_link": true
    },
    "kernelspec": {
      "name": "python3",
      "display_name": "Python 3"
    },
    "language_info": {
      "name": "python"
    }
  },
  "cells": [
    {
      "cell_type": "markdown",
      "metadata": {
        "id": "view-in-github",
        "colab_type": "text"
      },
      "source": [
        "<a href=\"https://colab.research.google.com/github/swapnilsethi/Linear-Regression/blob/main/Linear_Regression.ipynb\" target=\"_parent\"><img src=\"https://colab.research.google.com/assets/colab-badge.svg\" alt=\"Open In Colab\"/></a>"
      ]
    },
    {
      "cell_type": "code",
      "metadata": {
        "id": "fhwR4oyMo0Q6"
      },
      "source": [
        "import pandas as pd\n",
        "import matplotlib.pyplot as plt"
      ],
      "execution_count": null,
      "outputs": []
    },
    {
      "cell_type": "code",
      "metadata": {
        "id": "GV2cFPji78pS"
      },
      "source": [
        "#read data from github\n",
        "URL = \"https://raw.githubusercontent.com/swapnilsethi/Linear-Regression/master/univariate.txt\"\n",
        "data = pd.read_csv(URL, header=None, sep= \",\", names=[\"Population\", \"Profit\"])\n",
        "df = pd.DataFrame(data)\n",
        "df"
      ],
      "execution_count": null,
      "outputs": []
    },
    {
      "cell_type": "code",
      "metadata": {
        "id": "sWMePh6k9GJP"
      },
      "source": [
        "#EDA\n",
        "# As we know, there are only two columns in our dataset profit and Population, we can use scatter plot to visualize it.\n",
        "#pd.plotting.scatter_matrix(data)\n",
        "plt.scatter(df[\"Population\"],df[\"Profit\"],marker=\"x\")\n",
        "plt.title = \"Population vs Profit\"\n",
        "plt.xlabel = \"Porpulation of City in 10,000s\"\n",
        "plt.ylabel = \"Profit in $10,000s\"\n",
        "plt.show()\n"
      ],
      "execution_count": null,
      "outputs": []
    },
    {
      "cell_type": "code",
      "metadata": {
        "id": "BBuRddUSIdE-"
      },
      "source": [
        " #intercept term  Theta(0)\n",
        "\n",
        "m = len(data)\n",
        "intercept = [1]*m\n",
        "df.insert(0,\"Intercept\", intercept)\n",
        "df"
      ],
      "execution_count": null,
      "outputs": []
    },
    {
      "cell_type": "code",
      "metadata": {
        "colab": {
          "base_uri": "https://localhost:8080/"
        },
        "id": "Om6rHKPwLEOx",
        "outputId": "42933324-1bbb-4422-b277-e8f983652c25"
      },
      "source": [
        "#fitting Parameters\n",
        "\n",
        "Theta = [0,0]\n",
        "Theta"
      ],
      "execution_count": 79,
      "outputs": [
        {
          "output_type": "execute_result",
          "data": {
            "text/plain": [
              "[0, 0]"
            ]
          },
          "metadata": {},
          "execution_count": 79
        }
      ]
    }
  ]
}